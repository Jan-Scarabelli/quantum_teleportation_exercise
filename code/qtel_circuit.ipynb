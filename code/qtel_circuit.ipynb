{
 "cells": [
  {
   "cell_type": "markdown",
   "id": "b611c476",
   "metadata": {},
   "source": [
    "Simulation of a Quantum Teleportation Circuit"
   ]
  },
  {
   "cell_type": "markdown",
   "id": "3e58ed2c",
   "metadata": {
    "vscode": {
     "languageId": "plaintext"
    }
   },
   "source": [
    "Let's start by defining some gates and STATEs using numpy arrays"
   ]
  },
  {
   "cell_type": "code",
   "execution_count": 1,
   "id": "076b9a65",
   "metadata": {},
   "outputs": [],
   "source": [
    "import numpy as np\n",
    "\n",
    "# Define some useful global vars\n",
    "\n",
    "# STATEs\n",
    "STATE_0 = np.array([1,0]).reshape((2,1))\n",
    "STATE_1 = np.array([0,1]).reshape((2,1))\n",
    "STATE_PLUS = 1/np.sqrt(2) * np.array([1,1]).reshape((2,1))\n",
    "STATE_MINUS = 1/np.sqrt(2) * np.array([1,-1]).reshape((2,1))\n",
    "STATE_T = np.array([1/np.sqrt(2), np.exp(1j*np.pi/4)/np.sqrt(2)]).reshape((2,1))\n",
    "\n",
    "# Numpy function np.kron computes the Kronecker product (a.k.a. tensor product) of two matrices or vectors.\n",
    "STATE_00 = np.kron(STATE_0,STATE_0)\n",
    "STATE_01 = np.kron(STATE_0,STATE_1)\n",
    "STATE_10 = np.kron(STATE_1,STATE_0)\n",
    "STATE_11 = np.kron(STATE_1,STATE_1)\n",
    "STATE_PLUS_0 = np.kron(STATE_PLUS, STATE_0)\n",
    "STATE_PLUS_PLUS = np.kron(STATE_PLUS, STATE_PLUS)\n",
    "\n",
    "BELL_00 = 1/np.sqrt(2) * np.array([1,0,0,1]).reshape((4,1))\n",
    "BELL_01 = 1/np.sqrt(2) * np.array([0,1,1,0]).reshape((4,1))\n",
    "BELL_10 = 1/np.sqrt(2) * np.array([1,0,0,-1]).reshape((4,1))\n",
    "BELL_11 = 1/np.sqrt(2) * np.array([0,1,-1,0]).reshape((4,1))\n",
    "\n",
    "\n",
    "# Pauli matrices\n",
    "X = np.array([[0,1],[1,0]])\n",
    "Y = np.array([[0, -1j],[1j, 0]])\n",
    "Z = np.array([[1,0],[0,-1]])\n",
    "\n",
    "# Identity matrix\n",
    "I = np.identity(2)\n",
    "\n",
    "# Controlled gates\n",
    "#CNOT = np.array([[1,0,0,0],[0,1,0,0],[0,0,0,1],[0,0,1,0]])\n",
    "#CZ = np.array([[1,0,0,0],[0,1,0,0],[0,0,1,0],[0,0,0,-1]])\n",
    "\n",
    "# Hadamard gate\n",
    "H = 1/np.sqrt(2) * np.array([[1,1],[1,-1]])"
   ]
  },
  {
   "cell_type": "markdown",
   "id": "f91d2e72",
   "metadata": {},
   "source": [
    "Now, let's apply the gates to these STATEs to check they return what's expected"
   ]
  },
  {
   "cell_type": "code",
   "execution_count": 2,
   "id": "d488f077",
   "metadata": {},
   "outputs": [
    {
     "name": "stdout",
     "output_type": "stream",
     "text": [
      "X|0>=[[0]\n",
      " [1]]\n",
      "Y|1>=[[0.-1.j]\n",
      " [0.+0.j]]\n",
      "Z|+>=[[ 0.70710678]\n",
      " [-0.70710678]]\n",
      "Y|T>=[[0.5-0.5j       ]\n",
      " [0. +0.70710678j]]\n"
     ]
    }
   ],
   "source": [
    "# apply the gates to the STATEs\n",
    "print(f'X|0>={X @ STATE_0}\\nY|1>={Y @ STATE_1}\\nZ|+>={Z @ STATE_PLUS}\\nY|T>={Y @ STATE_T}')"
   ]
  },
  {
   "cell_type": "markdown",
   "id": "ba3b82b7",
   "metadata": {},
   "source": [
    "Apply CNOT and CZ gates to |00>, |+0>, |++>"
   ]
  },
  {
   "cell_type": "code",
   "execution_count": null,
   "id": "6bef0a94",
   "metadata": {},
   "outputs": [],
   "source": [
    "# apply CNOT and CZ gates to |00>, |+0>, |++>\n",
    "print(f'STATEs are defined as:\\\n",
    "      \\n|00>={STATE_00}\\\n",
    "      \\n|11>={STATE_11}\\\n",
    "      \\n|+0>={STATE_PLUS_0}\\\n",
    "      \\n|++>={STATE_PLUS_PLUS}\\n')"
   ]
  },
  {
   "cell_type": "code",
   "execution_count": null,
   "id": "78e4a4c5",
   "metadata": {},
   "outputs": [],
   "source": [
    "def circuit_1q(in_STATE: np.array, gates: list) -> np.array:\n",
    "    \"\"\"\n",
    "    Apply a list of gates to a single qubit STATE.\n",
    "    \n",
    "    Parameters:\n",
    "    in_STATE (np.array): Input STATE vector.\n",
    "    gates (list): List of gate matrices to apply.\n",
    "    \n",
    "    Returns:\n",
    "    np.array: Resulting STATE after applying the gates.\n",
    "    \"\"\"\n",
    "    STATE = in_STATE\n",
    "    for gate in gates:\n",
    "        STATE = gate @ STATE\n",
    "    return STATE"
   ]
  },
  {
   "cell_type": "markdown",
   "id": "505ffb13",
   "metadata": {},
   "source": [
    "Define some auxiliary functions to implement circuits"
   ]
  },
  {
   "cell_type": "code",
   "execution_count": 6,
   "id": "13870f5b",
   "metadata": {},
   "outputs": [],
   "source": [
    "def kron_concat(op_list):\n",
    "    \"\"\"\n",
    "    Create a Kronecker product of a matrix with itself n times.\n",
    "    \n",
    "    Parameters:\n",
    "    matrix (np.array): The input matrix.\n",
    "    n (int): The number of times to apply the Kronecker product.\n",
    "    \n",
    "    Returns:\n",
    "    np.array: The resulting matrix after applying the Kronecker product n times.\n",
    "    \"\"\"\n",
    "    result = op_list[0]\n",
    "    for op in op_list[1:]:\n",
    "        result = np.kron(result, op)\n",
    "    return result\n",
    "\n",
    "def measure(state_in: np.ndarray,\n",
    "            n: int =0) -> tuple:\n",
    "    \"\"\"\n",
    "    Measure a quantum state and return the outcome and the basis component where it was projected.\n",
    "    \"\"\"\n",
    "    dim = state_in.shape[0]\n",
    "    n_qbits = int(np.log2(dim))\n",
    "    projector = {'0': STATE_0 @ STATE_0.T, '1': STATE_1 @ STATE_1.T}\n",
    "    projector_global = {'0': kron_concat([I]*n + [projector['0']] + [I]*(n_qbits-n-1)),\n",
    "                        '1': kron_concat([I]*n + [projector['1']] + [I]*(n_qbits-n-1))}\n",
    "\n",
    "    state_0 = projector_global['0'] @ state_in\n",
    "    state_1 = projector_global['1'] @ state_in\n",
    "\n",
    "    out = np.random.choice([0,1], p = [np.linalg.norm(state_0)**2, np.linalg.norm(state_1)**2])\n",
    "\n",
    "    operator = kron_concat([I]*n + [projector[str(out)]] + [I]*(n_qbits-n-1))\n",
    "\n",
    "    state_out = operator @ state_in\n",
    "\n",
    "    # Renormalize\n",
    "    state_out /= np.linalg.norm(state_out)\n",
    "    \n",
    "    return out, state_out\n",
    "\n",
    "\n",
    "def controlled_op(state_in: np.ndarray, \n",
    "                  op: np.ndarray, \n",
    "                  control: int = 0, \n",
    "                  target: int =1) -> np.ndarray:\n",
    "    \"\"\"\n",
    "    Apply a controlled-op gate (CNOT, CZ, ...) with specified control and target qubits, not\n",
    "    necessairly consecutive.\n",
    "    \"\"\"\n",
    "    dim = state_in.shape[0]\n",
    "    n_qbits = int(np.log2(dim))\n",
    "    projector = projector = {'0': STATE_0 @ STATE_0.T, '1': STATE_1 @ STATE_1.T}\n",
    "\n",
    "    op0 = kron_concat([I]*control + [projector['0']] + [I]*(n_qbits-control-1))\n",
    "\n",
    "    if control < target:\n",
    "        op1 = kron_concat([I]*control + [projector['1']] + [I]*(target-control-1) + [op] + [I]*(n_qbits-target-1))\n",
    "    else:\n",
    "        op1 = kron_concat([I]*target + [op] + [I]*(control-target-1) + [projector['1']] + [I]*(n_qbits-control-1))\n",
    "\n",
    "    state_out = (op0 + op1) @ state_in\n",
    "\n",
    "    return state_out\n",
    "    "
   ]
  },
  {
   "cell_type": "markdown",
   "id": "61d24313",
   "metadata": {},
   "source": [
    "Now, define the Quantum teleportation Circuit function"
   ]
  },
  {
   "cell_type": "code",
   "execution_count": 7,
   "id": "b00557ad",
   "metadata": {},
   "outputs": [],
   "source": [
    "def qtelep_circuit(state_in: np.array):\n",
    "    \"\"\"\n",
    "    Quantum teleportation circuit function.\n",
    "    \n",
    "    Parameters:\n",
    "    state_in (np.array): Input quantum state to be teleported.\n",
    "    \n",
    "    Returns:\n",
    "    np.array: The teleported quantum state.\n",
    "    \"\"\"\n",
    "\n",
    "    # Step 0: Prepare the input state CAB\n",
    "    state_0 = np.kron(state_in, BELL_00)\n",
    "\n",
    "    # Step 1: Apply CNOT to C->A\n",
    "    state_1 = controlled_op(state_0, X, control=0, target=1)\n",
    "    print(f'State 1:\\n{state_1}')\n",
    "\n",
    "    # Step 2: Apply Hadamard to C\n",
    "    op = kron_concat([H]+[I]*2)\n",
    "    state_2 = op @ state_1\n",
    "    print(f'State 2:\\n{state_2}')\n",
    "\n",
    "    # Step 3: Measure qubit A\n",
    "    outcome, state_3 = measure(state_2, 1)\n",
    "    print(f'Outcome of measurement on qubit A: {outcome}')\n",
    "    print(f'State 3 after measurement:\\n{state_3}')\n",
    "\n",
    "    # Step 4: Measure qbit C\n",
    "    outcome, state_4 = measure(state_3, 0)\n",
    "    print(f'Outcome of measurement on qubit C: {outcome}')\n",
    "    print(f'State 4 after measurement:\\n{state_4}')\n",
    "\n",
    "    # Step 5: Apply CNOT to A->B\n",
    "    state_5 = controlled_op(state_4, X, control=1, target=2)\n",
    "    print(f'State 5 after CNOT A->B:\\n{state_5}')\n",
    "    print(f'Final state before applying CZ:\\n{state_5}')\n",
    "\n",
    "    # Step 6: Apply CZ to C->B\n",
    "    state_6 = controlled_op(state_5, Z, control=0, target=2)\n",
    "    print(f'Final state after applying CZ C->B:\\n{state_6}')\n",
    "    \n",
    "    return state_6"
   ]
  },
  {
   "cell_type": "code",
   "execution_count": 8,
   "id": "38d70b41",
   "metadata": {},
   "outputs": [
    {
     "name": "stdout",
     "output_type": "stream",
     "text": [
      "State 1:\n",
      "[[ 0.5]\n",
      " [ 0. ]\n",
      " [ 0. ]\n",
      " [ 0.5]\n",
      " [ 0. ]\n",
      " [-0.5]\n",
      " [-0.5]\n",
      " [ 0. ]]\n",
      "State 2:\n",
      "[[ 0.35355339]\n",
      " [-0.35355339]\n",
      " [-0.35355339]\n",
      " [ 0.35355339]\n",
      " [ 0.35355339]\n",
      " [ 0.35355339]\n",
      " [ 0.35355339]\n",
      " [ 0.35355339]]\n",
      "Outcome of measurement on qubit A: 0\n",
      "State 3 after measurement:\n",
      "[[ 0.5]\n",
      " [-0.5]\n",
      " [ 0. ]\n",
      " [ 0. ]\n",
      " [ 0.5]\n",
      " [ 0.5]\n",
      " [ 0. ]\n",
      " [ 0. ]]\n",
      "Outcome of measurement on qubit C: 0\n",
      "State 4 after measurement:\n",
      "[[ 0.70710678]\n",
      " [-0.70710678]\n",
      " [ 0.        ]\n",
      " [ 0.        ]\n",
      " [ 0.        ]\n",
      " [ 0.        ]\n",
      " [ 0.        ]\n",
      " [ 0.        ]]\n",
      "State 5 after CNOT A->B:\n",
      "[[ 0.70710678]\n",
      " [-0.70710678]\n",
      " [ 0.        ]\n",
      " [ 0.        ]\n",
      " [ 0.        ]\n",
      " [ 0.        ]\n",
      " [ 0.        ]\n",
      " [ 0.        ]]\n",
      "Final state before applying CZ:\n",
      "[[ 0.70710678]\n",
      " [-0.70710678]\n",
      " [ 0.        ]\n",
      " [ 0.        ]\n",
      " [ 0.        ]\n",
      " [ 0.        ]\n",
      " [ 0.        ]\n",
      " [ 0.        ]]\n",
      "Final state after applying CZ C->B:\n",
      "[[ 0.70710678]\n",
      " [-0.70710678]\n",
      " [ 0.        ]\n",
      " [ 0.        ]\n",
      " [ 0.        ]\n",
      " [ 0.        ]\n",
      " [ 0.        ]\n",
      " [ 0.        ]]\n"
     ]
    }
   ],
   "source": [
    "state_in = STATE_MINUS # Example input state\n",
    "teleported_state = qtelep_circuit(state_in)\n",
    "#print(f'Teleported state:\\n{teleported_state}')"
   ]
  },
  {
   "cell_type": "code",
   "execution_count": null,
   "id": "b4d9a3a2",
   "metadata": {},
   "outputs": [],
   "source": []
  }
 ],
 "metadata": {
  "kernelspec": {
   "display_name": "sciqis (3.13.5)",
   "language": "python",
   "name": "python3"
  },
  "language_info": {
   "codemirror_mode": {
    "name": "ipython",
    "version": 3
   },
   "file_extension": ".py",
   "mimetype": "text/x-python",
   "name": "python",
   "nbconvert_exporter": "python",
   "pygments_lexer": "ipython3",
   "version": "3.13.5"
  }
 },
 "nbformat": 4,
 "nbformat_minor": 5
}
