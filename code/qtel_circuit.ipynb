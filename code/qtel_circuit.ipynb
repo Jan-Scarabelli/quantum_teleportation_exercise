{
 "cells": [
  {
   "cell_type": "markdown",
   "id": "b611c476",
   "metadata": {},
   "source": [
    "Simulation of a Quantum Teleportation Circuit"
   ]
  },
  {
   "cell_type": "markdown",
   "id": "3e58ed2c",
   "metadata": {
    "vscode": {
     "languageId": "plaintext"
    }
   },
   "source": [
    "Let's start by defining some gates and states using numpy arrays"
   ]
  },
  {
   "cell_type": "code",
   "execution_count": 10,
   "id": "076b9a65",
   "metadata": {},
   "outputs": [
    {
     "name": "stdout",
     "output_type": "stream",
     "text": [
      "The Pauli matrices are:\n",
      "X=[[0 1]\n",
      " [1 0]]\n",
      "Y=[[ 0.+0.j -0.-1.j]\n",
      " [ 0.+1.j  0.+0.j]]\n",
      "Z=[[ 1  0]\n",
      " [ 0 -1]]\n"
     ]
    }
   ],
   "source": [
    "import numpy as np\n",
    "\n",
    "X = np.array([[0,1],[1,0]])\n",
    "Y = np.array([[0, -1j],[1j, 0]])\n",
    "Z = np.array([[1,0],[0,-1]])\n",
    "\n",
    "print(f'The Pauli matrices are:\\nX={X}\\nY={Y}\\nZ={Z}')\n"
   ]
  },
  {
   "cell_type": "code",
   "execution_count": 13,
   "id": "04ab2d58",
   "metadata": {},
   "outputs": [
    {
     "name": "stdout",
     "output_type": "stream",
     "text": [
      "The states are:\n",
      "|0>=[[1]\n",
      " [0]]\n",
      "|1>=[[0]\n",
      " [1]]\n",
      "|+>=[[0.70710678]\n",
      " [0.70710678]]\n",
      "|T>=[[0.70710678+0.j ]\n",
      " [0.5       +0.5j]]\n"
     ]
    }
   ],
   "source": [
    "state_0 = np.array([1,0]).reshape((2,1))\n",
    "state_1 = np.array([0,1]).reshape((2,1))\n",
    "state_plus = np.array([1/np.sqrt(2), 1/np.sqrt(2)]).reshape((2,1))\n",
    "state_T = np.array([1/np.sqrt(2), np.exp(1j*np.pi/4)/np.sqrt(2)]).reshape((2,1))\n",
    "\n",
    "print(f'The states are:\\n|0>={state_0}\\n|1>={state_1}\\n|+>={state_plus}\\n|T>={state_T}')"
   ]
  },
  {
   "cell_type": "markdown",
   "id": "f91d2e72",
   "metadata": {},
   "source": [
    "Now, let's apply the gates to these states to check they return what's expected"
   ]
  },
  {
   "cell_type": "code",
   "execution_count": 15,
   "id": "d488f077",
   "metadata": {},
   "outputs": [
    {
     "name": "stdout",
     "output_type": "stream",
     "text": [
      "X|0>=[[0]\n",
      " [1]]\n",
      "Y|1>=[[0.-1.j]\n",
      " [0.+0.j]]\n",
      "Z|+>=[[ 0.70710678]\n",
      " [-0.70710678]]\n",
      "Y|T>=[[0.5-0.5j       ]\n",
      " [0. +0.70710678j]]\n"
     ]
    }
   ],
   "source": [
    "# apply the gates to the states\n",
    "print(f'X|0>={X @ state_0}\\nY|1>={Y @ state_1}\\nZ|+>={Z @ state_plus}\\nY|T>={Y @ state_T}')"
   ]
  },
  {
   "cell_type": "markdown",
   "id": "ba3b82b7",
   "metadata": {},
   "source": [
    "Apply CNOT and CZ gates to |00>, |+0>, |++>"
   ]
  },
  {
   "cell_type": "code",
   "execution_count": null,
   "id": "6bef0a94",
   "metadata": {},
   "outputs": [
    {
     "name": "stdout",
     "output_type": "stream",
     "text": [
      "Gates are defined as:      \n",
      "cnot=[[1 0 0 0]\n",
      " [0 1 0 0]\n",
      " [0 0 0 1]\n",
      " [0 0 1 0]]      \n",
      "cz=[[ 1  0  0  0]\n",
      " [ 0  1  0  0]\n",
      " [ 0  0  1  0]\n",
      " [ 0  0  0 -1]]\n",
      "\n",
      "States are defined as:      \n",
      "|00>=[[1]\n",
      " [0]\n",
      " [0]\n",
      " [0]]      \n",
      "|11>=[[0]\n",
      " [0]\n",
      " [0]\n",
      " [1]]      \n",
      "|+0>=[[0.70710678]\n",
      " [0.        ]\n",
      " [0.70710678]\n",
      " [0.        ]]      \n",
      "|++>=[[0.5]\n",
      " [0.5]\n",
      " [0.5]\n",
      " [0.5]]\n",
      "\n"
     ]
    }
   ],
   "source": [
    "CNOT = np.array([[1,0,0,0],[0,1,0,0],[0,0,0,1],[0,0,1,0]])\n",
    "CZ = np.array([[1,0,0,0],[0,1,0,0],[0,0,1,0],[0,0,0,-1]])\n",
    "\n",
    "print(f'Gates are defined as:\\\n",
    "      \\nCNOT={CNOT}\\\n",
    "      \\nCZ={CZ}\\n')\n",
    "\n",
    "# apply CNOT and CZ gates to |00>, |+0>, |++>\n",
    "\n",
    "# Numpy function np.kron computes the Kronecker product (a.k.a. tensor product) of two matrices or vectors.\n",
    "\n",
    "state_00 = np.kron(state_0, state_0)\n",
    "state_11 = np.kron(state_1, state_1)\n",
    "state_plus_0 = np.kron(state_plus, state_0)\n",
    "state_plus_plus = np.kron(state_plus, state_plus)\n",
    "\n",
    "print(f'States are defined as:\\\n",
    "      \\n|00>={state_00}\\\n",
    "      \\n|11>={state_11}\\\n",
    "      \\n|+0>={state_plus_0}\\\n",
    "      \\n|++>={state_plus_plus}\\n')"
   ]
  },
  {
   "cell_type": "code",
   "execution_count": null,
   "id": "44cf00f0",
   "metadata": {},
   "outputs": [
    {
     "name": "stdout",
     "output_type": "stream",
     "text": [
      "If we apply some gates to them:\n",
      "CNOT|00>=[[1]\n",
      " [0]\n",
      " [0]\n",
      " [0]]      \n",
      "CNOT|11>=[[0]\n",
      " [0]\n",
      " [1]\n",
      " [0]]      \n",
      "CNOT|+0>=[[0.70710678]\n",
      " [0.        ]\n",
      " [0.        ]\n",
      " [0.70710678]]      \n",
      "CNOT|++>=[[0.5]\n",
      " [0.5]\n",
      " [0.5]\n",
      " [0.5]]\n",
      "CZ|00>=[[1]\n",
      " [0]\n",
      " [0]\n",
      " [0]]\n",
      "CZ|+0>=[[0.70710678]\n",
      " [0.        ]\n",
      " [0.70710678]\n",
      " [0.        ]]\n",
      "CZ|++>=[[ 0.5]\n",
      " [ 0.5]\n",
      " [ 0.5]\n",
      " [-0.5]]\n"
     ]
    }
   ],
   "source": [
    "print('If we apply some gates to them:')\n",
    "print(f'CNOT|00>={CNOT @ state_00}\\\n",
    "      \\nCNOT|11>={CNOT @ state_11}\\\n",
    "      \\nCNOT|+0>={CNOT @ state_plus_0}\\\n",
    "      \\nCNOT|++>={CNOT @ state_plus_plus}')\n",
    "print(f'CZ|00>={CZ @ state_00}\\nCZ|+0>={CZ @ state_plus_0}\\nCZ|++>={CZ @ state_plus_plus}')"
   ]
  },
  {
   "cell_type": "code",
   "execution_count": 31,
   "id": "78e4a4c5",
   "metadata": {},
   "outputs": [],
   "source": [
    "def circuit_1q(in_state: np.array, gates: list) -> np.array:\n",
    "    \"\"\"\n",
    "    Apply a list of gates to a single qubit state.\n",
    "    \n",
    "    Parameters:\n",
    "    in_state (np.array): Input state vector.\n",
    "    gates (list): List of gate matrices to apply.\n",
    "    \n",
    "    Returns:\n",
    "    np.array: Resulting state after applying the gates.\n",
    "    \"\"\"\n",
    "    state = in_state\n",
    "    for gate in gates:\n",
    "        state = gate @ state\n",
    "    return state"
   ]
  },
  {
   "cell_type": "code",
   "execution_count": 32,
   "id": "e6aa1c08",
   "metadata": {},
   "outputs": [],
   "source": [
    "# Hadamard gate\n",
    "H = 1/np.sqrt(2) * np.array([[1,1],[1,-1]])"
   ]
  },
  {
   "cell_type": "code",
   "execution_count": null,
   "id": "13870f5b",
   "metadata": {},
   "outputs": [],
   "source": [
    "def qtel(state_in: np.array):\n",
    "    # A & B share an EPR pair\n",
    "    bell_state_AB = 1/np.sqrt(2) * np.array([1,0,0,1])\n",
    "\n",
    "    state = np.kron(state_in, bell_state_AB)\n",
    "\n",
    "    # CNOT\n",
    "    state = (np.kron(CNOT, np.identity(2))) @ state\n",
    "\n",
    "    print(state)"
   ]
  },
  {
   "cell_type": "code",
   "execution_count": null,
   "id": "4d2a9d6c",
   "metadata": {},
   "outputs": [
    {
     "name": "stdout",
     "output_type": "stream",
     "text": [
      "Initial global state CAB:\n",
      "[0.         0.         0.         0.         0.70710678 0.\n",
      " 0.         0.70710678]\n",
      "\n",
      "State after CNOT:\n",
      "[0.         0.         0.         0.         0.         0.70710678\n",
      " 0.70710678 0.        ]\n",
      "State after Hadamard on system C:\n",
      "[ 0.   0.5  0.5  0.   0.  -0.5 -0.5  0. ]\n"
     ]
    }
   ],
   "source": [
    "state_in = np.array([0,1])\n",
    "\n",
    "# A & B share an EPR pair\n",
    "bell_state_AB = 1/np.sqrt(2) * np.array([1,0,0,1])  # EPR pair 1/sqrt(2) * (|00> +|11>)\n",
    "\n",
    "state = np.kron(state_in, bell_state_AB)\n",
    "\n",
    "print(f'Initial global state CAB:\\n{state}\\n')\n",
    "\n",
    "# CNOT\n",
    "state = (np.kron(CNOT, np.identity(2))) @ state\n",
    "\n",
    "print(f'State after CNOT:\\n{state}')\n",
    "\n",
    "# Hadamard\n",
    "state = (np.kron(np.kron(H,np.identity(2)), np.identity(2))) @ state\n",
    "\n",
    "print(f'State after Hadamard on system C:\\n{state}')\n",
    "\n",
    "# Measurement A\n",
    "p = np.random.uniform()\n",
    "if p < 0.5:\n",
    "    #apply 0\n",
    "    proj = np.kron(np.identity(2), np.kron(np.array([[1,0],[0,0]]), np.identity(2)))\n",
    "    \n",
    "else:\n",
    "    #apply 1\n",
    "    proj = np.kron(np.identity(2), np.kron(np.array([[0,0],[0,1]]), np.identity(2)))\n",
    "\n",
    "# Apply projection\n",
    "state = proj @ state\n"
   ]
  },
  {
   "cell_type": "code",
   "execution_count": null,
   "id": "947c6d15",
   "metadata": {},
   "outputs": [],
   "source": [
    "m0 = np.kron(np.kron(np.identity(2), np.array([[1,0],[0,0]])), np.identity(2))"
   ]
  },
  {
   "cell_type": "code",
   "execution_count": null,
   "id": "d3e4f038",
   "metadata": {},
   "outputs": [
    {
     "data": {
      "text/plain": [
       "array([ 0. ,  0.5,  0. ,  0. ,  0. , -0.5,  0. ,  0. ])"
      ]
     },
     "execution_count": 45,
     "metadata": {},
     "output_type": "execute_result"
    }
   ],
   "source": [
    "m0 @ state"
   ]
  },
  {
   "cell_type": "code",
   "execution_count": 46,
   "id": "969c9a19",
   "metadata": {},
   "outputs": [
    {
     "data": {
      "text/plain": [
       "array([[0., 0., 0., 0., 0., 0., 0., 0.],\n",
       "       [0., 0., 0., 0., 0., 0., 0., 0.],\n",
       "       [0., 0., 1., 0., 0., 0., 0., 0.],\n",
       "       [0., 0., 0., 1., 0., 0., 0., 0.],\n",
       "       [0., 0., 0., 0., 0., 0., 0., 0.],\n",
       "       [0., 0., 0., 0., 0., 0., 0., 0.],\n",
       "       [0., 0., 0., 0., 0., 0., 1., 0.],\n",
       "       [0., 0., 0., 0., 0., 0., 0., 1.]])"
      ]
     },
     "execution_count": 46,
     "metadata": {},
     "output_type": "execute_result"
    }
   ],
   "source": [
    "m1 = np.kron(np.kron(np.identity(2), np.array([[0,0],[0,1]])), np.identity(2))\n",
    "m1"
   ]
  },
  {
   "cell_type": "code",
   "execution_count": 47,
   "id": "fb83d3a0",
   "metadata": {},
   "outputs": [
    {
     "data": {
      "text/plain": [
       "array([ 0. ,  0. ,  0.5,  0. ,  0. ,  0. , -0.5,  0. ])"
      ]
     },
     "execution_count": 47,
     "metadata": {},
     "output_type": "execute_result"
    }
   ],
   "source": [
    "m1 @ state"
   ]
  }
 ],
 "metadata": {
  "kernelspec": {
   "display_name": "sciqis (3.13.5)",
   "language": "python",
   "name": "python3"
  },
  "language_info": {
   "codemirror_mode": {
    "name": "ipython",
    "version": 3
   },
   "file_extension": ".py",
   "mimetype": "text/x-python",
   "name": "python",
   "nbconvert_exporter": "python",
   "pygments_lexer": "ipython3",
   "version": "3.13.5"
  }
 },
 "nbformat": 4,
 "nbformat_minor": 5
}
